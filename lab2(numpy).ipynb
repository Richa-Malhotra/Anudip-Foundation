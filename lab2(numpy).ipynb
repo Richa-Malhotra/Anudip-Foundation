{
  "metadata": {
    "kernelspec": {
      "name": "python",
      "display_name": "Python (Pyodide)",
      "language": "python"
    },
    "language_info": {
      "codemirror_mode": {
        "name": "python",
        "version": 3
      },
      "file_extension": ".py",
      "mimetype": "text/x-python",
      "name": "python",
      "nbconvert_exporter": "python",
      "pygments_lexer": "ipython3",
      "version": "3.8"
    }
  },
  "nbformat_minor": 4,
  "nbformat": 4,
  "cells": [
    {
      "cell_type": "code",
      "source": "#lab2:---------------------------------------------------\n#ques1:----\n'''suppose you have a dataset containing daily temperature readings for a city,and you want to\nidentify days with extreme temperature conditions.find days where the temperature either exceeded \n35 degree celsius(hot day) or dropped below 5 degrees celsius(cold day)'''\nimport numpy as np\n\n# Sample temperature data\ntemperatures = np.array([32.5, 34.2, 36.8, 29.3, 31.0, 38.7, 23.1, 18.5, 22.8, 37.2])\n\n# Identify hot days (temperature > 35°C)\nhot_days = np.where(temperatures > 35)[0]\n\n# Identify cold days (temperature < 5°C)\ncold_days = np.where(temperatures < 5)[0]\n\n# Print the results with temperature values\nprint(\"Hot days (temperature > 35°C):\")\nfor day in hot_days:\n    print(f\"Day {day}: {temperatures[day]}°C\")\n\nif cold_days.size > 0:\n    print(\"\\nCold days (temperature < 5°C):\")\n    for day in cold_days:\n        print(f\"Day {day}: {temperatures[day]}°C\")\nelse:\n    print(\"\\nThere are no cold days (temperature < 5°C).\")\n\n",
      "metadata": {
        "trusted": true
      },
      "outputs": [
        {
          "name": "stdout",
          "text": "Hot days (temperature > 35°C):\nDay 2: 36.8°C\nDay 5: 38.7°C\nDay 9: 37.2°C\n\nThere are no cold days (temperature < 5°C).\n",
          "output_type": "stream"
        }
      ],
      "execution_count": 7
    },
    {
      "cell_type": "code",
      "source": "#ques2:------------------------------------------------------\n'''suppose you have a dataset containing monthly sales data for a company,and you want to \nsplit this data into quaterly reports for analysis and reporting purposes'''\nimport numpy as np\nmonthly_sales=np.array([120,135,148,165,180,155,168,190,205,198,210,225])\nsub_arrays=np.split(monthly_sales,4)\n\nfor quarter in sub_arrays:\n    print(\"quarter: \",quarter)\n    \n",
      "metadata": {
        "trusted": true
      },
      "outputs": [
        {
          "name": "stdout",
          "text": "quarter:  [120 135 148]\nquarter:  [165 180 155]\nquarter:  [168 190 205]\nquarter:  [198 210 225]\n",
          "output_type": "stream"
        }
      ],
      "execution_count": 9
    },
    {
      "cell_type": "code",
      "source": "#ques3:----------------------------------------\n''' Suppose you have a dataset containing customer data, and you want to split this data\ninto two groups: one group for customers who made a purchase in the last 30 days and\nanother group for customers who haven't made a purchase in the last 30 days.'''\n\nimport numpy as np\n\n# Define the input data\ncustomer_ids = np.array([101, 102, 103, 104, 105, 106, 107, 108, 109, 110])\nlast_purchase_days_ago = np.array([5, 15, 20, 25, 30, 35, 40, 45, 50, 55])\n\n# Create a boolean mask for customers who made a purchase in the last 30 days\nrecent_purchase_mask = last_purchase_days_ago <= 30\n\n# Split the data using the boolean mask\nrecent_customers = customer_ids[recent_purchase_mask]\nnon_recent_customers = customer_ids[~recent_purchase_mask]\n\n# Display the groups\nprint(\"Active customers (last purchase <=30 days ago)\")\nprint(recent_customers)\n\nprint(\"\\n Inactive customers (last purchase >30 days ago:\")\nprint(non_recent_customers)\n\n",
      "metadata": {
        "trusted": true
      },
      "outputs": [
        {
          "name": "stdout",
          "text": "Active customers (last purchase <=30 days ago)\n[101 102 103 104 105]\n\n Inactive customers (last purchase >30 days ago:\n[106 107 108 109 110]\n",
          "output_type": "stream"
        }
      ],
      "execution_count": 13
    },
    {
      "cell_type": "code",
      "source": "#ques4:----------------------------------------------------------------\n'''Suppose you have two sets of employee data—one containing information about\nfull-time employees and another containing information about part-time employees. You\nwant to combine this data to create a comprehensive employee dataset for HR analysis.'''\n\nimport numpy as np\n\n# Employee data for full-time employees\nfull_time_employees = np.array([\n    [101, 'John Doe', 'Full-Time', 55000],\n    [102, 'Jane Smith', 'Full-Time', 60000],\n    [103, 'Mike Johnson', 'Full-Time', 52000]\n])\n\n# Employee data for part-time employees\npart_time_employees = np.array([\n    [201, 'Alice Brown', 'Part-Time', 25000],\n    [202, 'Bob Wilson', 'Part-Time', 28000],\n    [203, 'Emily Davis', 'Part-Time', 22000]\n])\n\n# Combine the data\nall_employees = np.vstack((full_time_employees, part_time_employees))\n\n# Print the combined data\nprint(\"Comprehensive employee dataset:\")\nprint(all_employees)\n",
      "metadata": {
        "trusted": true
      },
      "outputs": [
        {
          "name": "stdout",
          "text": "Comprehensive employee dataset:\n[['101' 'John Doe' 'Full-Time' '55000']\n ['102' 'Jane Smith' 'Full-Time' '60000']\n ['103' 'Mike Johnson' 'Full-Time' '52000']\n ['201' 'Alice Brown' 'Part-Time' '25000']\n ['202' 'Bob Wilson' 'Part-Time' '28000']\n ['203' 'Emily Davis' 'Part-Time' '22000']]\n",
          "output_type": "stream"
        }
      ],
      "execution_count": 14
    },
    {
      "cell_type": "code",
      "source": "#ASSIGNMENT:--------------------------------------------------\n#How to find the mean of every NumPy array in the given list?\n\nimport numpy as np\n\n# List of NumPy arrays\narrays_list = [\n    np.array([3, 2, 8, 9]),\n    np.array([4, 12, 34, 25, 78]),\n    np.array([23, 12, 67])\n]\n\n# Compute the mean of each array in the list\nmeans = [np.mean(arr) for arr in arrays_list]\n\n# Print the results\nprint(\"Means of each array:\")\nfor i, mean in enumerate(means, start=1):\n    print(f\"Mean of array {i}: {mean}\")\n",
      "metadata": {
        "trusted": true
      },
      "outputs": [
        {
          "name": "stdout",
          "text": "Means of each array:\nMean of array 1: 5.5\nMean of array 2: 30.6\nMean of array 3: 34.0\n",
          "output_type": "stream"
        }
      ],
      "execution_count": 15
    },
    {
      "cell_type": "code",
      "source": "#ques2:-------------------------------------------------------\n'''Compute the median of the flattened NumPy array'''\n\nimport numpy as np\n\n# Input array\nx_odd = np.array([1, 2, 3, 4, 5, 6, 7])\n\n# Compute the median of the array\nmedian_value = np.median(x_odd)\n\n# Print the result\nprint(f\"The median of the array is: {median_value}\")\n",
      "metadata": {
        "trusted": true
      },
      "outputs": [
        {
          "name": "stdout",
          "text": "The median of the array is: 4.0\n",
          "output_type": "stream"
        }
      ],
      "execution_count": 16
    },
    {
      "cell_type": "code",
      "source": "#ques3:----------------------------------------------\n'''Compute the standard deviation of the NumPy array'''\nimport numpy as np\n\n# Input array\narr = np.array([20, 2, 7, 1, 34])\n\n# Compute the standard deviation of the array\nstd_dev = np.std(arr)\n\n# Print the result\nprint(f\"The standard deviation of the array is: {std_dev}\")\n",
      "metadata": {
        "trusted": true
      },
      "outputs": [
        {
          "name": "stdout",
          "text": "The standard deviation of the array is: 12.576167937809991\n",
          "output_type": "stream"
        }
      ],
      "execution_count": 17
    },
    {
      "cell_type": "code",
      "source": "",
      "metadata": {
        "trusted": true
      },
      "outputs": [],
      "execution_count": null
    }
  ]
}