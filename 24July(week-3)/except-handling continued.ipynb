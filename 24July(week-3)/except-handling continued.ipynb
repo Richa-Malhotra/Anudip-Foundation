{
  "metadata": {
    "kernelspec": {
      "name": "python",
      "display_name": "Python (Pyodide)",
      "language": "python"
    },
    "language_info": {
      "codemirror_mode": {
        "name": "python",
        "version": 3
      },
      "file_extension": ".py",
      "mimetype": "text/x-python",
      "name": "python",
      "nbconvert_exporter": "python",
      "pygments_lexer": "ipython3",
      "version": "3.8"
    }
  },
  "nbformat_minor": 4,
  "nbformat": 4,
  "cells": [
    {
      "cell_type": "code",
      "source": "#forcefully raising exception\n\ndef ageCheck(age):\n    if age>=18:\n        print(\"you can vote\")\n    else:\n        raise ValueError(\"you can't vote\")\ntry:\n    ageCheck(15)\nexcept ValueError as e:\n    print(e)\n\n        ",
      "metadata": {
        "trusted": true
      },
      "outputs": [
        {
          "name": "stdout",
          "text": "you can't vote\n",
          "output_type": "stream"
        }
      ],
      "execution_count": 3
    },
    {
      "cell_type": "code",
      "source": "#rules for exception rise:--------\nan exception can be raised forcefully by using the raise clause in python.it is useful in that\nscenario where we need to raise an exception to stop the excution of program.\nfor ex:- there is a program that requires 2GB memory for execution and if the program tries to occupy more than 2GB\nof memory then we can raise an exception in program\n\n\nto raise an exception the raise statemnet is used.the exception class name follows it\n\nan exception van be provided with a value that can be given in paranthesis.\nto access the value \"as\" key word is used.\"e\" is used as a refernece variable which stores the value of exception.\nwe can pass the value to an exception to specify the exception type.",
      "metadata": {
        "trusted": true
      },
      "outputs": [],
      "execution_count": null
    }
  ]
}