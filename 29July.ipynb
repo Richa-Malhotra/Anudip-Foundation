{
  "metadata": {
    "kernelspec": {
      "name": "python",
      "display_name": "Python (Pyodide)",
      "language": "python"
    },
    "language_info": {
      "codemirror_mode": {
        "name": "python",
        "version": 3
      },
      "file_extension": ".py",
      "mimetype": "text/x-python",
      "name": "python",
      "nbconvert_exporter": "python",
      "pygments_lexer": "ipython3",
      "version": "3.8"
    }
  },
  "nbformat_minor": 4,
  "nbformat": 4,
  "cells": [
    {
      "cell_type": "code",
      "source": "#split():---------------------------------------------------------------------\nimport numpy as np\narr=np.array([1,2,3,4,5,6])\n\n#split the array into 3 equal sized sub-arrays\nsub_arrays=np.split(arr,3)\n\n#print the sub-arrays\nfor sub_arr in sub_arrays:\n    print(sub_arr)\n    ",
      "metadata": {
        "trusted": true
      },
      "outputs": [
        {
          "name": "stdout",
          "text": "[1 2]\n[3 4]\n[5 6]\n",
          "output_type": "stream"
        }
      ],
      "execution_count": 1
    },
    {
      "cell_type": "code",
      "source": "#sort()-------- it is used to sort elements in an array\nimport numpy as np\narr=np.array([3,1,2,4,5])\nsorted_arr=np.sort(arr)\nprint(\"sorted array (ascending):\",sorted_arr)\nsorted_arr_desc=np.sort(arr)[::-1]\nprint(\"sorted array (descending):\",sorted_arr_desc)",
      "metadata": {
        "trusted": true
      },
      "outputs": [
        {
          "name": "stdout",
          "text": "sorted array (ascending): [1 2 3 4 5]\nsorted array (descending): [5 4 3 2 1]\n",
          "output_type": "stream"
        }
      ],
      "execution_count": 3
    },
    {
      "cell_type": "code",
      "source": "#sorting along specific axis:-----------------\nimport numpy as np\nmatrix=np.array([[3,1,2],[6,5,4]])\nsorted_matrix=np.sort(matrix,axis=1)\nprint(\"sorted matrix (ascending along rows):\")\nprint(sorted_matrix)",
      "metadata": {
        "trusted": true
      },
      "outputs": [
        {
          "name": "stdout",
          "text": "sorted matrix (ascending along rows):\n[[1 2 3]\n [4 5 6]]\n",
          "output_type": "stream"
        }
      ],
      "execution_count": 4
    },
    {
      "cell_type": "code",
      "source": "#numpy join-----np.vstack()==for vertical stacking,np.hstack()==dor horizontal stacking,concatenate()\n\n#1) concatenate()\n\nimport numpy as np\narr1=np.array([[1,2],[3,4]])\narr2=np.array([[5,6],[7,8]])\nresult=np.concatenate((arr1,arr2),axis=1)   #here 1 means row\nprint(result)\n\nprint(\"-----------------------------------------------\")\nresult2=np.concatenate((arr1,arr2),axis=0)   #here 0 means column\nprint(result2)",
      "metadata": {
        "trusted": true
      },
      "outputs": [
        {
          "name": "stdout",
          "text": "[[1 2 5 6]\n [3 4 7 8]]\n-----------------------------------------------\n[[1 2]\n [3 4]\n [5 6]\n [7 8]]\n",
          "output_type": "stream"
        }
      ],
      "execution_count": 9
    },
    {
      "cell_type": "code",
      "source": "#2) vstack()\n\nimport numpy as np\narr1=np.array([1,2,3])\narr2=np.array([4,5,6])\nprint(\"implementing vstack\")\nresult=np.vstack((arr1,arr2))\nprint(result)\nprint(\"-----------------------------------------------\")\nprint(\"implementing hstack\")\nresult1=np.hstack((arr1,arr2))\n\n\nprint(result1)",
      "metadata": {
        "trusted": true
      },
      "outputs": [
        {
          "name": "stdout",
          "text": "implementing vstack\n[[1 2 3]\n [4 5 6]]\n-----------------------------------------------\nimplementing hstack\n[1 2 3 4 5 6]\n",
          "output_type": "stream"
        }
      ],
      "execution_count": 15
    },
    {
      "cell_type": "code",
      "source": "#standard deviation:------------------------------------\nimport numpy as np\n# Score of Class A students\nclassA= np.array([85, 88, 90, 92, 95])\n\n# Score of Class A students\nclassB= np.array([70, 80, 85, 95, 100])\n\n#mean of classA\nclassA_mean=np.mean(classA)\nprint(classA_mean)\n#variance of classA\nclassA_variance=np.var(classA)\nprint(classA_variance)\n#standard deviation of classA\nstdA=np.std(classA)\nprint(stdA)\n\nprint(\"--------------------------------------------------------------\")\nprint(\"mean of classB\")\nclassB_mean=np.mean(classB)\nprint(classB_mean)\nprint(\"varaince of class b\")\nvar_b=np.var(classB)\nprint(var_b)\nprint(\"standard deviation of class b\")\nstd_b=np.std(classB)\nprint(std_b)\n\n\n",
      "metadata": {
        "trusted": true
      },
      "outputs": [
        {
          "name": "stdout",
          "text": "90.0\n11.6\n3.40587727318528\n--------------------------------------------------------------\nmean of classB\n86.0\nvaraince of class b\n114.0\nstandard deviation of class b\n10.677078252031311\n",
          "output_type": "stream"
        }
      ],
      "execution_count": 22
    },
    {
      "cell_type": "code",
      "source": "#percentile:-----------------------------------------------------------\n\nimport numpy as np\n# Test scores of 30 students\ntest_scores = np.array([65, 75, 80, 85, 90, 92, 94, 95, 96, 98, 100, 102, 104, 106, 108,\n110, 112, 114, 116, 118, 120, 122, 124, 126, 128, 130, 132, 134, 136, 138])\nmedian = np.percentile(test_scores, 50)\nprint(\"Median (50th Percentile):\", median)\n",
      "metadata": {
        "trusted": true
      },
      "outputs": [
        {
          "name": "stdout",
          "text": "Median (50th Percentile): 109.0\n",
          "output_type": "stream"
        }
      ],
      "execution_count": 23
    },
    {
      "cell_type": "code",
      "source": "#percentile:--------------------------------------------------------------\ntest_scores = np.array([65, 75, 80, 85, 90, 92, 94, 95, 96, 98, 100, 102, 104, 106, 108,\n110, 112, 114, 116, 118, 120, 122, 124, 126, 128, 130, 132, 134, 136, 138])\nmedian = np.percentile(test_scores, 25)\nprint(\"Median (25th Percentile):\", median)\n",
      "metadata": {
        "trusted": true
      },
      "outputs": [
        {
          "name": "stdout",
          "text": "Median (25th Percentile): 95.25\n",
          "output_type": "stream"
        }
      ],
      "execution_count": 25
    },
    {
      "cell_type": "code",
      "source": "",
      "metadata": {
        "trusted": true
      },
      "outputs": [],
      "execution_count": null
    },
    {
      "cell_type": "code",
      "source": "#load():------------------------------------------------------\nimport numpy as np\nscores=np.array([85,92,78,88,95,72,89])\nnp.save('student-scores.npy',scores)\nloaded_scores=np.load('student_scores.npy')\nprint(\"original scores:\",scores)\nprint(\"loaded scores:\",loaded_scores)",
      "metadata": {
        "trusted": true
      },
      "outputs": [
        {
          "ename": "<class 'FileNotFoundError'>",
          "evalue": "[Errno 44] No such file or directory: 'student_scores.npy'",
          "traceback": [
            "\u001b[0;31m---------------------------------------------------------------------------\u001b[0m",
            "\u001b[0;31mFileNotFoundError\u001b[0m                         Traceback (most recent call last)",
            "Cell \u001b[0;32mIn[27], line 5\u001b[0m\n\u001b[1;32m      3\u001b[0m scores\u001b[38;5;241m=\u001b[39mnp\u001b[38;5;241m.\u001b[39marray([\u001b[38;5;241m85\u001b[39m,\u001b[38;5;241m92\u001b[39m,\u001b[38;5;241m78\u001b[39m,\u001b[38;5;241m88\u001b[39m,\u001b[38;5;241m95\u001b[39m,\u001b[38;5;241m72\u001b[39m,\u001b[38;5;241m89\u001b[39m])\n\u001b[1;32m      4\u001b[0m np\u001b[38;5;241m.\u001b[39msave(\u001b[38;5;124m'\u001b[39m\u001b[38;5;124mstudent-scores.npy\u001b[39m\u001b[38;5;124m'\u001b[39m,scores)\n\u001b[0;32m----> 5\u001b[0m loaded_scores\u001b[38;5;241m=\u001b[39m\u001b[43mnp\u001b[49m\u001b[38;5;241;43m.\u001b[39;49m\u001b[43mload\u001b[49m\u001b[43m(\u001b[49m\u001b[38;5;124;43m'\u001b[39;49m\u001b[38;5;124;43mstudent_scores.npy\u001b[39;49m\u001b[38;5;124;43m'\u001b[39;49m\u001b[43m)\u001b[49m\n\u001b[1;32m      6\u001b[0m \u001b[38;5;28mprint\u001b[39m(\u001b[38;5;124m\"\u001b[39m\u001b[38;5;124moriginal scores:\u001b[39m\u001b[38;5;124m\"\u001b[39m,scores)\n\u001b[1;32m      7\u001b[0m \u001b[38;5;28mprint\u001b[39m(\u001b[38;5;124m\"\u001b[39m\u001b[38;5;124mloaded scores:\u001b[39m\u001b[38;5;124m\"\u001b[39m,loaded_scores)\n",
            "File \u001b[0;32m/lib/python3.11/site-packages/numpy/lib/npyio.py:427\u001b[0m, in \u001b[0;36mload\u001b[0;34m(file, mmap_mode, allow_pickle, fix_imports, encoding, max_header_size)\u001b[0m\n\u001b[1;32m    425\u001b[0m     own_fid \u001b[38;5;241m=\u001b[39m \u001b[38;5;28;01mFalse\u001b[39;00m\n\u001b[1;32m    426\u001b[0m \u001b[38;5;28;01melse\u001b[39;00m:\n\u001b[0;32m--> 427\u001b[0m     fid \u001b[38;5;241m=\u001b[39m stack\u001b[38;5;241m.\u001b[39menter_context(\u001b[38;5;28;43mopen\u001b[39;49m\u001b[43m(\u001b[49m\u001b[43mos_fspath\u001b[49m\u001b[43m(\u001b[49m\u001b[43mfile\u001b[49m\u001b[43m)\u001b[49m\u001b[43m,\u001b[49m\u001b[43m \u001b[49m\u001b[38;5;124;43m\"\u001b[39;49m\u001b[38;5;124;43mrb\u001b[39;49m\u001b[38;5;124;43m\"\u001b[39;49m\u001b[43m)\u001b[49m)\n\u001b[1;32m    428\u001b[0m     own_fid \u001b[38;5;241m=\u001b[39m \u001b[38;5;28;01mTrue\u001b[39;00m\n\u001b[1;32m    430\u001b[0m \u001b[38;5;66;03m# Code to distinguish from NumPy binary files and pickles.\u001b[39;00m\n",
            "\u001b[0;31mFileNotFoundError\u001b[0m: [Errno 44] No such file or directory: 'student_scores.npy'"
          ],
          "output_type": "error"
        }
      ],
      "execution_count": 27
    }
  ]
}