{
  "metadata": {
    "kernelspec": {
      "name": "python",
      "display_name": "Python (Pyodide)",
      "language": "python"
    },
    "language_info": {
      "codemirror_mode": {
        "name": "python",
        "version": 3
      },
      "file_extension": ".py",
      "mimetype": "text/x-python",
      "name": "python",
      "nbconvert_exporter": "python",
      "pygments_lexer": "ipython3",
      "version": "3.8"
    }
  },
  "nbformat_minor": 4,
  "nbformat": 4,
  "cells": [
    {
      "cell_type": "code",
      "source": "#ques1:----------------------------\n'''convert the below list into numpy array then display the array'''\n\nimport numpy as np\nmy_list=[1,2,3,4,5]\narr=np.array(my_list)\nprint(arr)\n",
      "metadata": {
        "trusted": true
      },
      "outputs": [
        {
          "name": "stdout",
          "text": "[1 2 3 4 5]\n",
          "output_type": "stream"
        }
      ],
      "execution_count": 3
    },
    {
      "cell_type": "code",
      "source": "#ques2:----------------------------\n'''convert the below list into a numpy array then display the array then display the first and last index and\nthen multiply each element by 2 and display the result'''\n\nimport numpy as np\nlst=[1,2,3,4,5]\n\n# Convert list to numpy array\narr = np.array(lst)\n\n# Display the array\nprint(\"Array:\", arr)\n\n# Display the first and last index\nprint(\"First index:\", arr[0])\nprint(\"Last index:\", arr[-1])\n\n# Multiply each element by 2\narr_multiplied = arr * 2\n\n# Display the result\nprint(\"Array after multiplication by 2:\", arr_multiplied)\n\n",
      "metadata": {
        "trusted": true
      },
      "outputs": [
        {
          "name": "stdout",
          "text": "Array: [1 2 3 4 5]\nFirst index: 1\nLast index: 5\nArray after multiplication by 2: [ 2  4  6  8 10]\n",
          "output_type": "stream"
        }
      ],
      "execution_count": 4
    },
    {
      "cell_type": "code",
      "source": "#ques3:----------\n'''write a numpy program to create an array of 10 zeros,10ones and 10 fives'''\n\nimport numpy as np\n\n# Create an array of 10 zeros\nzeros_array = np.zeros(10)\nprint(\"Array of 10 zeros:\", zeros_array)\n\n# Create an array of 10 ones\nones_array = np.ones(10)\nprint(\"Array of 10 ones:\", ones_array)\n\n# Create an array of 10 fives\nfives_array = np.full(10, 5)\nprint(\"Array of 10 fives:\", fives_array)\n",
      "metadata": {
        "trusted": true
      },
      "outputs": [
        {
          "name": "stdout",
          "text": "Array of 10 zeros: [0. 0. 0. 0. 0. 0. 0. 0. 0. 0.]\nArray of 10 ones: [1. 1. 1. 1. 1. 1. 1. 1. 1. 1.]\nArray of 10 fives: [5 5 5 5 5 5 5 5 5 5]\n",
          "output_type": "stream"
        }
      ],
      "execution_count": 5
    },
    {
      "cell_type": "code",
      "source": "#ques4:----------------\n'''write a numpy program to create a 3*3 matrix with values ranging from 2 to 10'''\n\nimport numpy as np\n\n# Create a 3x3 matrix with values ranging from 2 to 10\nmatrix = np.arange(2, 11).reshape(3, 3)\nprint(\"3x3 matrix with values ranging from 2 to 10:\")\nprint(matrix)\n\n",
      "metadata": {
        "trusted": true
      },
      "outputs": [
        {
          "name": "stdout",
          "text": "3x3 matrix with values ranging from 2 to 10:\n[[ 2  3  4]\n [ 5  6  7]\n [ 8  9 10]]\n",
          "output_type": "stream"
        }
      ],
      "execution_count": 6
    },
    {
      "cell_type": "code",
      "source": "",
      "metadata": {
        "trusted": true
      },
      "outputs": [],
      "execution_count": null
    }
  ]
}