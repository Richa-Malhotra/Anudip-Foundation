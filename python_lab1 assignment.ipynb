{
  "metadata": {
    "kernelspec": {
      "name": "python",
      "display_name": "Python (Pyodide)",
      "language": "python"
    },
    "language_info": {
      "codemirror_mode": {
        "name": "python",
        "version": 3
      },
      "file_extension": ".py",
      "mimetype": "text/x-python",
      "name": "python",
      "nbconvert_exporter": "python",
      "pygments_lexer": "ipython3",
      "version": "3.8"
    }
  },
  "nbformat_minor": 4,
  "nbformat": 4,
  "cells": [
    {
      "cell_type": "code",
      "source": "'''Declare a div() function with two parameters. Then call the function and pass two\nnumbers and display their division'''\ndef div(a,b):\n    return a/b\n\n#calling the function\nresult=div(40,2)\n\nprint(result)",
      "metadata": {
        "trusted": true
      },
      "outputs": [],
      "execution_count": null
    },
    {
      "cell_type": "code",
      "source": "'''Declare a square() function with one parameter.Then call the function and pass\none number and display the square of that number'''\ndef square(a):\n    return a*a\n\n#calling the function\noutput=square(5)\n\nprint(output)",
      "metadata": {
        "trusted": true
      },
      "outputs": [],
      "execution_count": null
    },
    {
      "cell_type": "code",
      "source": "'''Using max() and min() functions display the maximum and minimum of 5 random\nnumbers'''\nnumbers = [23, 78, 45, 12, 67]\n# Find the maximum number\nmax_number = max(numbers)\nprint(\"Maximum Number:\", max_number)\n\n# Find the minimum number\nmin_number = min(numbers)\nprint(\"Minimum Number:\", min_number)\n",
      "metadata": {
        "trusted": true
      },
      "outputs": [],
      "execution_count": null
    },
    {
      "cell_type": "code",
      "source": "'''Write a Python program to count the occurrences of each word in a\ngiven sentence'''\n# Given sentence\nsentence = \"To change the overall look of your document. To change the look available in the gallery\"\n\n# Convert the sentence to lower case to ensure the count is case-insensitive\nsentence = sentence.lower()\n\n# Remove punctuation manually\npunctuations = ['.', ',', ';', ':', '!', '?']\nfor punctuation in punctuations:\n    sentence = sentence.replace(punctuation, '')\n\n# Split the sentence into words\nwords = sentence.split()\n\n# Create an empty dictionary to store the word counts\nword_counts = {}\n\n# Count the occurrences of each word\nfor word in words:\n    if word in word_counts:\n        word_counts[word] += 1\n    else:\n        word_counts[word] = 1\n\n# Print the word counts\nfor word, count in word_counts.items():\n    print(f\"{word}: {count}\")\n",
      "metadata": {
        "trusted": true
      },
      "outputs": [
        {
          "name": "stdout",
          "text": "to: 2\nchange: 2\nthe: 3\noverall: 1\nlook: 2\nof: 1\nyour: 1\ndocument: 1\navailable: 1\nin: 1\ngallery: 1\n",
          "output_type": "stream"
        }
      ],
      "execution_count": 1
    },
    {
      "cell_type": "code",
      "source": "'''Write a Python program to remove a newline in Python'''\n# Given string with newlines\nstring = \"\\nBest \\nDeeptech \\nPython \\nTraining\\n\"\n\n# Remove leading and trailing newlines\ncleaned_string = string.strip()\n\n# Print the cleaned string\nprint(\"String with leading and trailing newlines removed:\", cleaned_string)\n\n",
      "metadata": {
        "trusted": true
      },
      "outputs": [
        {
          "name": "stdout",
          "text": "String with leading and trailing newlines removed: Best \nDeeptech \nPython \nTraining\n",
          "output_type": "stream"
        }
      ],
      "execution_count": 2
    },
    {
      "cell_type": "code",
      "source": "#Write a Python program to reverse words in a string\n# Given string\nstring = \"Deeptech Python Training\"\n\n# Split the string into words\nwords = string.split()\n\n# Reverse the list of words\nreversed_words = words[::-1]\n\n# Join the reversed list of words into a single string\nreversed_string = ' '.join(reversed_words)\n\n# Print the reversed string\nprint(\"Reversed string:\", reversed_string)\n",
      "metadata": {
        "trusted": true
      },
      "outputs": [
        {
          "name": "stdout",
          "text": "Reversed string: Training Python Deeptech\n",
          "output_type": "stream"
        }
      ],
      "execution_count": 3
    },
    {
      "cell_type": "code",
      "source": "#Write a Python program to count and display the vowels of a given text\n# Given string\ntext = \"Welcome to python Training\"\n\n# Define vowels\nvowels = 'aeiou'\n\n# Initialize a dictionary to count each vowel\nvowel_counts = {vowel: 0 for vowel in vowels}\n\n# Convert text to lower case to make the counting case-insensitive\ntext = text.lower()\n\n# Count the occurrences of each vowel\nfor char in text:\n    if char in vowel_counts:\n        vowel_counts[char] += 1\n\n# Display the vowel counts\nprint(\"Vowel counts:\")\nfor vowel, count in vowel_counts.items():\n    print(f\"{vowel}: {count}\")\n",
      "metadata": {
        "trusted": true
      },
      "outputs": [
        {
          "name": "stdout",
          "text": "Vowel counts:\na: 1\ne: 2\ni: 2\no: 3\nu: 0\n",
          "output_type": "stream"
        }
      ],
      "execution_count": 4
    },
    {
      "cell_type": "code",
      "source": "#ques1:-------------------\n\n'''Write a Python program to Count all letters, digits, and special\nsymbols from the given string'''\n# Given input string\ninput_string = \"P@#yn26at^&i5ve\"\n\n# Initialize counters\nletter_count = 0\ndigit_count = 0\nsymbol_count = 0\n\n# Iterate through each character in the string\nfor char in input_string:\n    if char.isalpha():\n        letter_count += 1\n    elif char.isdigit():\n        digit_count += 1\n    else:\n        symbol_count += 1\n\n# Display the results\nprint(f\"Chars = {letter_count}\")\nprint(f\"Digits = {digit_count}\")\nprint(f\"Symbols = {symbol_count}\")\n",
      "metadata": {
        "trusted": true
      },
      "outputs": [
        {
          "name": "stdout",
          "text": "Chars = 8\nDigits = 3\nSymbols = 4\n",
          "output_type": "stream"
        }
      ],
      "execution_count": 5
    },
    {
      "cell_type": "code",
      "source": "#ques2:---------------\n\n#Write a Python program to remove duplicate characters of a given string\n# Given input string\ninput_string = \"String and String Function\"\n\n# Function to remove duplicate characters\ndef remove_duplicates(s):\n    seen = set()  # Set to track seen characters\n    result = []  # List to build the result string with unique characters\n    \n    for char in s:\n        # Only add the character if it hasn't been added before\n        if char not in seen:\n            seen.add(char)\n            result.append(char)\n    \n    return ''.join(result)\n\n# Call the function with the input string\noutput_string = remove_duplicates(input_string)\n\n# Print the output string\nprint(\"Output:\", output_string)\n\n",
      "metadata": {
        "trusted": true
      },
      "outputs": [
        {
          "name": "stdout",
          "text": "Output: String adFuco\n",
          "output_type": "stream"
        }
      ],
      "execution_count": 7
    },
    {
      "cell_type": "code",
      "source": "#ques3:---------\n\n#Write a Python program to count Uppercase, Lowercase, special character and numeric values in a given string\n# Given input string\ninput_string = \"Hell0 W0rld ! 123 * # welcome to pYtHoN\"\n\n# Initialize counters\nuppercase_count = 0\nlowercase_count = 0\nnumeric_count = 0\nspecial_count = 0\n\n# Iterate through each character in the string\nfor char in input_string:\n    if char.isupper():\n        uppercase_count += 1\n    elif char.islower():\n        lowercase_count += 1\n    elif char.isdigit():\n        numeric_count += 1\n    elif not char.isspace():\n        special_count += 1\n\n# Print the results\nprint(f\"UpperCase : {uppercase_count}\")\nprint(f\"LowerCase : {lowercase_count}\")\nprint(f\"NumberCase : {numeric_count}\")\nprint(f\"SpecialCase : {special_count}\")\n",
      "metadata": {
        "trusted": true
      },
      "outputs": [
        {
          "name": "stdout",
          "text": "UpperCase : 5\nLowerCase : 18\nNumberCase : 5\nSpecialCase : 3\n",
          "output_type": "stream"
        }
      ],
      "execution_count": 8
    },
    {
      "cell_type": "code",
      "source": "#ques4:-------------------\n\n#Write a Python Count vowels in a string\n\n# Given input string\ninput_string = \"Welcome to Python Assignment\"\n\n# Define vowels\nvowels = \"aeiouAEIOU\"\n\n# Initialize a counter\nvowel_count = 0\n\n# Iterate through each character in the string\nfor char in input_string:\n    if char in vowels:\n        vowel_count += 1\n\n# Print the result\nprint(f\"Total vowels are: {vowel_count}\")\n",
      "metadata": {
        "trusted": true
      },
      "outputs": [
        {
          "name": "stdout",
          "text": "Total vowels are: 8\n",
          "output_type": "stream"
        }
      ],
      "execution_count": 9
    },
    {
      "cell_type": "code",
      "source": "",
      "metadata": {
        "trusted": true
      },
      "outputs": [],
      "execution_count": null
    }
  ]
}